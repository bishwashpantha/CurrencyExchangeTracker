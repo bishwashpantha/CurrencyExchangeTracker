{
 "cells": [
  {
   "cell_type": "code",
   "execution_count": 55,
   "id": "b93cc25f-7290-449a-a40b-2a9c9f4c0455",
   "metadata": {},
   "outputs": [],
   "source": [
    "import requests\n",
    "import json\n",
    "import pandas as pd\n",
    "import matplotlib.pyplot as plt\n",
    "import matplotlib.dates as mdates\n",
    "\n",
    "API_KEY = '843cf3eff9894b4890df58f4' # <<< YOUR ACTUAL API KEY IS HERE\n",
    "\n",
    "# --- These URLs will now use your API_KEY correctly ---\n",
    "BASE_URL_LATEST = f\"https://v6.exchangerate-api.com/v6/{API_KEY}/latest/\"\n",
    "BASE_URL_PAIR = f\"https://v6.exchangerate-api.com/v6/{API_KEY}/pair/\"\n",
    "BASE_URL_HISTORY_PREFIX = f\"https://v6.exchangerate-api.com/v6/{API_KEY}/history/\""
   ]
  },
  {
   "cell_type": "code",
   "execution_count": 56,
   "id": "02bf1d35-d73e-4201-93cc-f31942139624",
   "metadata": {},
   "outputs": [],
   "source": [
    "# --- 1. Fetch Latest Exchange Rates ---"
   ]
  },
  {
   "cell_type": "code",
   "execution_count": 57,
   "id": "9385e4d9-a9a3-4e52-b240-fea5d62cc3af",
   "metadata": {},
   "outputs": [],
   "source": [
    "def get_latest_rates(base_currency=\"USD\"):\n",
    "    \"\"\"Fetches the latest exchange rates for a given base currency.\"\"\"\n",
    "    url = BASE_URL_LATEST + base_currency\n",
    "    print(f\"Fetching latest rates from: {url.replace(API_KEY, 'YOUR_API_KEY_HIDDEN')}\")\n",
    "    try:\n",
    "        response = requests.get(url)\n",
    "        response.raise_for_status()\n",
    "        data = response.json()\n",
    "        if data.get(\"result\") == \"success\":\n",
    "            print(f\"\\n--- Latest Exchange Rates (Base: {base_currency}) ---\")\n",
    "            rates = data.get(\"conversion_rates\", {})\n",
    "            common_currencies = ['EUR', 'GBP', 'JPY', 'CAD', 'AUD', 'CHF', 'CNY', 'INR']\n",
    "            for currency_code in common_currencies:\n",
    "                if currency_code in rates:\n",
    "                    print(f\"1 {base_currency} = {rates[currency_code]:.4f} {currency_code}\")\n",
    "            return rates\n",
    "        else:\n",
    "            print(f\"API Error: {data.get('error-type', 'Unknown error')}\")\n",
    "            return None\n",
    "    except requests.exceptions.RequestException as e:\n",
    "        print(f\"Request failed: {e}\")\n",
    "        return None\n",
    "    except json.JSONDecodeError:\n",
    "        print(\"Failed to decode JSON response from API.\")\n",
    "        return None"
   ]
  },
  {
   "cell_type": "code",
   "execution_count": 58,
   "id": "3ea32dbc-037d-43bc-9922-7fb374cc89bb",
   "metadata": {},
   "outputs": [],
   "source": [
    "# --- 2. Convert Currency ---"
   ]
  },
  {
   "cell_type": "code",
   "execution_count": 59,
   "id": "ddacb21b-d3e6-4fe0-b33e-33adc3092ded",
   "metadata": {},
   "outputs": [],
   "source": [
    "def convert_currency(amount, from_currency, to_currency):\n",
    "    \"\"\"Converts an amount from one currency to another using real-time rates.\"\"\"\n",
    "    url = f\"{BASE_URL_PAIR}{from_currency}/{to_currency}/{amount}\"\n",
    "    print(f\"Fetching conversion from: {url.replace(API_KEY, 'YOUR_API_KEY_HIDDEN')}\") # Hide key in print\n",
    "    try:\n",
    "        response = requests.get(url)\n",
    "        response.raise_for_status()\n",
    "        data = response.json()\n",
    "        if data.get(\"result\") == \"success\":\n",
    "            converted_amount = data.get(\"conversion_result\")\n",
    "            rate = data.get(\"conversion_rate\")\n",
    "            print(f\"\\n--- Conversion Result ---\")\n",
    "            print(f\"{amount} {from_currency} = {converted_amount:.2f} {to_currency} (Rate: 1 {from_currency} = {rate:.4f} {to_currency})\")\n",
    "            return converted_amount\n",
    "        else:\n",
    "            print(f\"API Error for conversion: {data.get('error-type', 'Unknown error')}\")\n",
    "            return None\n",
    "    except requests.exceptions.RequestException as e:\n",
    "        print(f\"Conversion request failed: {e}\")\n",
    "        return None\n",
    "    except json.JSONDecodeError:\n",
    "        print(\"Failed to decode JSON response for conversion.\")\n",
    "        return None"
   ]
  },
  {
   "cell_type": "code",
   "execution_count": 60,
   "id": "42a2877d-3f23-4e81-9063-b7d8daefc658",
   "metadata": {},
   "outputs": [],
   "source": [
    "# --- 3. (Optional) Fetch and Plot Historical Exchange Rate ---"
   ]
  },
  {
   "cell_type": "code",
   "execution_count": 61,
   "id": "ad50e9a4-6519-49ba-a0f5-34f4f5f5cd0b",
   "metadata": {},
   "outputs": [],
   "source": [
    "# def get_historical_rate_plot(base_c, target_c, start_year, start_month, start_day, num_days=30):\n",
    "#     dates = pd.to_datetime(f\"{start_year}-{start_month}-{start_day}\") + pd.to_timedelta(np.arange(num_days), 'D')\n",
    "#     rates_history = []\n",
    "#     print(f\"\\nFetching historical data for {base_c}/{target_c} (may take a moment)...\")\n",
    "#     for date_obj in dates:\n",
    "#         year, month, day = date_obj.year, date_obj.month, date_obj.day\n",
    "#         url_history = f\"{BASE_URL_HISTORY_PREFIX}{base_c}/{year}/{month}/{day}\"\n",
    "#         # print(f\"Fetching history from: {url_history.replace(API_KEY, 'YOUR_API_KEY_HIDDEN')}\") # Optional: for debugging\n",
    "#         try:\n",
    "#             response = requests.get(url_history)\n",
    "#             response.raise_for_status()\n",
    "#             data = response.json()\n",
    "#             if data.get(\"result\") == \"success\" and target_c in data.get(\"conversion_rates\", {}):\n",
    "#                 rates_history.append({'Date': date_obj, 'Rate': data[\"conversion_rates\"][target_c]})\n",
    "#         except Exception: # Silently pass if a day fails to avoid too much noise\n",
    "#             pass\n",
    "#     if not rates_history:\n",
    "#         print(\"No historical data fetched. This feature might be limited on the free API plan or an error occurred.\")\n",
    "#         return\n",
    "#     history_df = pd.DataFrame(rates_history).set_index('Date')\n",
    "#     plt.figure(figsize=(12, 6))\n",
    "#     plt.plot(history_df.index, history_df['Rate'], marker='.', linestyle='-')\n",
    "#     plt.title(f'Historical Exchange Rate: 1 {base_c} to {target_c}')\n",
    "#     plt.xlabel('Date')\n",
    "#     plt.ylabel(f'{target_c} per 1 {base_c}')\n",
    "#     plt.gca().xaxis.set_major_formatter(mdates.DateFormatter('%Y-%m-%d'))\n",
    "#     plt.gca().xaxis.set_major_locator(mdates.DayLocator(interval=max(1, num_days // 7)))\n",
    "#     plt.gcf().autofmt_xdate()\n",
    "#     plt.grid(True)\n",
    "#     plt.show()"
   ]
  },
  {
   "cell_type": "code",
   "execution_count": 62,
   "id": "8306b340-4a04-44fb-853f-6b9e058d5866",
   "metadata": {},
   "outputs": [],
   "source": [
    "# --- Main Execution ---"
   ]
  },
  {
   "cell_type": "code",
   "execution_count": 63,
   "id": "79be5d72-a70a-4c79-97be-ab8531662bad",
   "metadata": {},
   "outputs": [
    {
     "name": "stdout",
     "output_type": "stream",
     "text": [
      "DEBUG: The API_KEY variable at the top of the script is currently set to: '843cf3eff9894b4890df58f4'\n",
      "\n",
      "SUCCESS: API_KEY appears to be set. Proceeding with operations...\n",
      "(Using API Key ending in: ...df58f4)\n",
      "Fetching latest rates from: https://v6.exchangerate-api.com/v6/YOUR_API_KEY_HIDDEN/latest/USD\n",
      "\n",
      "--- Latest Exchange Rates (Base: USD) ---\n",
      "1 USD = 0.8945 EUR\n",
      "1 USD = 0.7524 GBP\n",
      "1 USD = 145.3019 JPY\n",
      "1 USD = 1.3955 CAD\n",
      "1 USD = 1.5602 AUD\n",
      "1 USD = 0.8365 CHF\n",
      "1 USD = 7.2081 CNY\n",
      "1 USD = 85.6380 INR\n",
      "\n",
      "Attempting to convert 100 USD to EUR...\n",
      "Fetching conversion from: https://v6.exchangerate-api.com/v6/YOUR_API_KEY_HIDDEN/pair/USD/EUR/100\n",
      "\n",
      "--- Conversion Result ---\n",
      "100 USD = 89.45 EUR (Rate: 1 USD = 0.8945 EUR)\n",
      "\n",
      "Attempting to convert 5000 GBP to INR...\n",
      "Fetching conversion from: https://v6.exchangerate-api.com/v6/YOUR_API_KEY_HIDDEN/pair/GBP/INR/5000\n",
      "\n",
      "--- Conversion Result ---\n",
      "5000 GBP = 568345.50 INR (Rate: 1 GBP = 113.6691 INR)\n"
     ]
    }
   ],
   "source": [
    "if __name__ == \"__main__\":\n",
    "    PLACEHOLDER_API_KEY_STRING = 'YOUR_API_KEY'\n",
    "\n",
    "\n",
    "    if API_KEY == PLACEHOLDER_API_KEY_STRING or API_KEY == '':\n",
    "        print(\"\\n!!!!!!!!!!!!!!!!!!!!!!!!!!!!!!!!!!!!!!!!!!!!!!!!!!!!!!!!!!!!!!!!!!!!!!!!!!!!!!\")\n",
    "        print(\"ERROR: API_KEY at the TOP of the script is still a placeholder or empty.\")\n",
    "        print(f\"Please edit the script and change the line `API_KEY = '{PLACEHOLDER_API_KEY_STRING}'`\")\n",
    "        print(f\"to `API_KEY = 'your_actual_api_key_value'` with your real key.\")\n",
    "        print(\"!!!!!!!!!!!!!!!!!!!!!!!!!!!!!!!!!!!!!!!!!!!!!!!!!!!!!!!!!!!!!!!!!!!!!!!!!!!!!!\")\n",
    "    else:\n",
    "        print(\"\\nSUCCESS: API_KEY appears to be set. Proceeding with operations...\")\n",
    "        # print(f\"(Using API Key ending in: ...{API_KEY[-6:]})\")\n",
    "\n",
    "        # 1. Get and display latest rates for USD\n",
    "        latest_usd_rates = get_latest_rates(base_currency=\"USD\")\n",
    "\n",
    "        # 2. Perform a currency conversion (example)\n",
    "        if latest_usd_rates: \n",
    "            amount_to_convert = 100\n",
    "            from_curr = \"USD\"\n",
    "            to_curr = \"EUR\"\n",
    "            print(f\"\\nAttempting to convert {amount_to_convert} {from_curr} to {to_curr}...\")\n",
    "            converted_value = convert_currency(amount_to_convert, from_curr, to_curr)\n",
    "\n",
    "            amount_to_convert_2 = 5000\n",
    "            from_curr_2 = \"GBP\"\n",
    "            to_curr_2 = \"INR\"\n",
    "            print(f\"\\nAttempting to convert {amount_to_convert_2} {from_curr_2} to {to_curr_2}...\")\n",
    "            converted_value_2 = convert_currency(amount_to_convert_2, from_curr_2, to_curr_2)\n",
    "        \n",
    "            # 3. (Optional) Plot historical rate for a pair\n",
    "            # print(\"\\n--- Historical Rate Plot Example (Currently Commented Out) ---\")\n",
    "            # get_historical_rate_plot(base_c=\"USD\", target_c=\"JPY\", \n",
    "            #                          start_year=2023, start_month=11, start_day=1, num_days=30)\n",
    "        else:\n",
    "            print(\"\\nCould not fetch latest rates, so skipping conversions.\")"
   ]
  },
  {
   "cell_type": "code",
   "execution_count": null,
   "id": "4099e0d7-5dfd-47bf-a74c-d8eec4c6bb75",
   "metadata": {},
   "outputs": [],
   "source": []
  },
  {
   "cell_type": "code",
   "execution_count": null,
   "id": "f7323065-bf19-4c7e-97fa-dc1550e4d402",
   "metadata": {},
   "outputs": [],
   "source": []
  },
  {
   "cell_type": "code",
   "execution_count": null,
   "id": "ec3b89c0-5787-475e-923a-a6dd183ebcc8",
   "metadata": {},
   "outputs": [],
   "source": []
  },
  {
   "cell_type": "code",
   "execution_count": null,
   "id": "4fe0a3e2-c5cf-40ee-ac3d-66a77a031bd9",
   "metadata": {},
   "outputs": [],
   "source": []
  },
  {
   "cell_type": "code",
   "execution_count": null,
   "id": "e8bcad93-82e6-4897-b42e-eb04c1c715b4",
   "metadata": {},
   "outputs": [],
   "source": []
  },
  {
   "cell_type": "code",
   "execution_count": null,
   "id": "2fd3c719-4af9-4a90-9894-8d4fc6b057af",
   "metadata": {},
   "outputs": [],
   "source": []
  },
  {
   "cell_type": "code",
   "execution_count": null,
   "id": "2563b067-c13d-4f0e-ba68-e4ebf451cc04",
   "metadata": {},
   "outputs": [],
   "source": []
  },
  {
   "cell_type": "code",
   "execution_count": null,
   "id": "411f8bf6-53a7-4d7e-b466-56c3c6e5cd0a",
   "metadata": {},
   "outputs": [],
   "source": []
  },
  {
   "cell_type": "code",
   "execution_count": null,
   "id": "1d0b569f-c593-4317-93e4-a6e7c9924d01",
   "metadata": {},
   "outputs": [],
   "source": []
  },
  {
   "cell_type": "code",
   "execution_count": null,
   "id": "005bb47d-ba9e-4e42-9a1d-9898c18ce1d6",
   "metadata": {},
   "outputs": [],
   "source": []
  }
 ],
 "metadata": {
  "kernelspec": {
   "display_name": "Python 3.13 (for Quant Projects)",
   "language": "python",
   "name": "python313_yfinance_env"
  },
  "language_info": {
   "codemirror_mode": {
    "name": "ipython",
    "version": 3
   },
   "file_extension": ".py",
   "mimetype": "text/x-python",
   "name": "python",
   "nbconvert_exporter": "python",
   "pygments_lexer": "ipython3",
   "version": "3.13.3"
  }
 },
 "nbformat": 4,
 "nbformat_minor": 5
}
